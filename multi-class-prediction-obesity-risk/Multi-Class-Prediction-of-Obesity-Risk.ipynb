{
 "cells": [
  {
   "cell_type": "code",
   "execution_count": 1,
   "id": "6aee5147",
   "metadata": {
    "_cell_guid": "b1076dfc-b9ad-4769-8c92-a6c4dae69d19",
    "_uuid": "8f2839f25d086af736a60e9eeb907d3b93b6e0e5",
    "execution": {
     "iopub.execute_input": "2024-02-21T22:54:11.931422Z",
     "iopub.status.busy": "2024-02-21T22:54:11.930967Z",
     "iopub.status.idle": "2024-02-21T22:54:12.928900Z",
     "shell.execute_reply": "2024-02-21T22:54:12.927651Z"
    },
    "papermill": {
     "duration": 1.0114,
     "end_time": "2024-02-21T22:54:12.931805",
     "exception": false,
     "start_time": "2024-02-21T22:54:11.920405",
     "status": "completed"
    },
    "tags": []
   },
   "outputs": [
    {
     "name": "stdout",
     "output_type": "stream",
     "text": [
      "/kaggle/input/playground-series-s4e2/sample_submission.csv\n",
      "/kaggle/input/playground-series-s4e2/train.csv\n",
      "/kaggle/input/playground-series-s4e2/test.csv\n"
     ]
    }
   ],
   "source": [
    "# This Python 3 environment comes with many helpful analytics libraries installed\n",
    "# It is defined by the kaggle/python Docker image: https://github.com/kaggle/docker-python\n",
    "# For example, here's several helpful packages to load\n",
    "\n",
    "import numpy as np # linear algebra\n",
    "import pandas as pd # data processing, CSV file I/O (e.g. pd.read_csv)\n",
    "\n",
    "# Input data files are available in the read-only \"../input/\" directory\n",
    "# For example, running this (by clicking run or pressing Shift+Enter) will list all files under the input directory\n",
    "\n",
    "import os\n",
    "for dirname, _, filenames in os.walk('/kaggle/input'):\n",
    "    for filename in filenames:\n",
    "        print(os.path.join(dirname, filename))\n",
    "\n",
    "# You can write up to 20GB to the current directory (/kaggle/working/) that gets preserved as output when you create a version using \"Save & Run All\" \n",
    "# You can also write temporary files to /kaggle/temp/, but they won't be saved outside of the current session"
   ]
  },
  {
   "cell_type": "code",
   "execution_count": 2,
   "id": "a5d20d0a",
   "metadata": {
    "execution": {
     "iopub.execute_input": "2024-02-21T22:54:12.950144Z",
     "iopub.status.busy": "2024-02-21T22:54:12.949505Z",
     "iopub.status.idle": "2024-02-21T22:54:13.150837Z",
     "shell.execute_reply": "2024-02-21T22:54:13.149717Z"
    },
    "papermill": {
     "duration": 0.213991,
     "end_time": "2024-02-21T22:54:13.153905",
     "exception": false,
     "start_time": "2024-02-21T22:54:12.939914",
     "status": "completed"
    },
    "tags": []
   },
   "outputs": [],
   "source": [
    "# Setting our training and testing data, we will be using the train_data throughout and only apply the models to the test data at the end\n",
    "train_data = pd.read_csv('/kaggle/input/playground-series-s4e2/train.csv')\n",
    "test_data = pd.read_csv('/kaggle/input/playground-series-s4e2/test.csv')"
   ]
  },
  {
   "cell_type": "code",
   "execution_count": 3,
   "id": "22595e74",
   "metadata": {
    "execution": {
     "iopub.execute_input": "2024-02-21T22:54:13.172382Z",
     "iopub.status.busy": "2024-02-21T22:54:13.171862Z",
     "iopub.status.idle": "2024-02-21T22:54:13.203943Z",
     "shell.execute_reply": "2024-02-21T22:54:13.202598Z"
    },
    "papermill": {
     "duration": 0.044822,
     "end_time": "2024-02-21T22:54:13.207026",
     "exception": false,
     "start_time": "2024-02-21T22:54:13.162204",
     "status": "completed"
    },
    "tags": []
   },
   "outputs": [
    {
     "data": {
      "text/html": [
       "<div>\n",
       "<style scoped>\n",
       "    .dataframe tbody tr th:only-of-type {\n",
       "        vertical-align: middle;\n",
       "    }\n",
       "\n",
       "    .dataframe tbody tr th {\n",
       "        vertical-align: top;\n",
       "    }\n",
       "\n",
       "    .dataframe thead th {\n",
       "        text-align: right;\n",
       "    }\n",
       "</style>\n",
       "<table border=\"1\" class=\"dataframe\">\n",
       "  <thead>\n",
       "    <tr style=\"text-align: right;\">\n",
       "      <th></th>\n",
       "      <th>id</th>\n",
       "      <th>Gender</th>\n",
       "      <th>Age</th>\n",
       "      <th>Height</th>\n",
       "      <th>Weight</th>\n",
       "      <th>family_history_with_overweight</th>\n",
       "      <th>FAVC</th>\n",
       "      <th>FCVC</th>\n",
       "      <th>NCP</th>\n",
       "      <th>CAEC</th>\n",
       "      <th>SMOKE</th>\n",
       "      <th>CH2O</th>\n",
       "      <th>SCC</th>\n",
       "      <th>FAF</th>\n",
       "      <th>TUE</th>\n",
       "      <th>CALC</th>\n",
       "      <th>MTRANS</th>\n",
       "      <th>NObeyesdad</th>\n",
       "    </tr>\n",
       "  </thead>\n",
       "  <tbody>\n",
       "    <tr>\n",
       "      <th>0</th>\n",
       "      <td>0</td>\n",
       "      <td>Male</td>\n",
       "      <td>24.443011</td>\n",
       "      <td>1.699998</td>\n",
       "      <td>81.669950</td>\n",
       "      <td>yes</td>\n",
       "      <td>yes</td>\n",
       "      <td>2.000000</td>\n",
       "      <td>2.983297</td>\n",
       "      <td>Sometimes</td>\n",
       "      <td>no</td>\n",
       "      <td>2.763573</td>\n",
       "      <td>no</td>\n",
       "      <td>0.000000</td>\n",
       "      <td>0.976473</td>\n",
       "      <td>Sometimes</td>\n",
       "      <td>Public_Transportation</td>\n",
       "      <td>Overweight_Level_II</td>\n",
       "    </tr>\n",
       "    <tr>\n",
       "      <th>1</th>\n",
       "      <td>1</td>\n",
       "      <td>Female</td>\n",
       "      <td>18.000000</td>\n",
       "      <td>1.560000</td>\n",
       "      <td>57.000000</td>\n",
       "      <td>yes</td>\n",
       "      <td>yes</td>\n",
       "      <td>2.000000</td>\n",
       "      <td>3.000000</td>\n",
       "      <td>Frequently</td>\n",
       "      <td>no</td>\n",
       "      <td>2.000000</td>\n",
       "      <td>no</td>\n",
       "      <td>1.000000</td>\n",
       "      <td>1.000000</td>\n",
       "      <td>no</td>\n",
       "      <td>Automobile</td>\n",
       "      <td>Normal_Weight</td>\n",
       "    </tr>\n",
       "    <tr>\n",
       "      <th>2</th>\n",
       "      <td>2</td>\n",
       "      <td>Female</td>\n",
       "      <td>18.000000</td>\n",
       "      <td>1.711460</td>\n",
       "      <td>50.165754</td>\n",
       "      <td>yes</td>\n",
       "      <td>yes</td>\n",
       "      <td>1.880534</td>\n",
       "      <td>1.411685</td>\n",
       "      <td>Sometimes</td>\n",
       "      <td>no</td>\n",
       "      <td>1.910378</td>\n",
       "      <td>no</td>\n",
       "      <td>0.866045</td>\n",
       "      <td>1.673584</td>\n",
       "      <td>no</td>\n",
       "      <td>Public_Transportation</td>\n",
       "      <td>Insufficient_Weight</td>\n",
       "    </tr>\n",
       "    <tr>\n",
       "      <th>3</th>\n",
       "      <td>3</td>\n",
       "      <td>Female</td>\n",
       "      <td>20.952737</td>\n",
       "      <td>1.710730</td>\n",
       "      <td>131.274851</td>\n",
       "      <td>yes</td>\n",
       "      <td>yes</td>\n",
       "      <td>3.000000</td>\n",
       "      <td>3.000000</td>\n",
       "      <td>Sometimes</td>\n",
       "      <td>no</td>\n",
       "      <td>1.674061</td>\n",
       "      <td>no</td>\n",
       "      <td>1.467863</td>\n",
       "      <td>0.780199</td>\n",
       "      <td>Sometimes</td>\n",
       "      <td>Public_Transportation</td>\n",
       "      <td>Obesity_Type_III</td>\n",
       "    </tr>\n",
       "    <tr>\n",
       "      <th>4</th>\n",
       "      <td>4</td>\n",
       "      <td>Male</td>\n",
       "      <td>31.641081</td>\n",
       "      <td>1.914186</td>\n",
       "      <td>93.798055</td>\n",
       "      <td>yes</td>\n",
       "      <td>yes</td>\n",
       "      <td>2.679664</td>\n",
       "      <td>1.971472</td>\n",
       "      <td>Sometimes</td>\n",
       "      <td>no</td>\n",
       "      <td>1.979848</td>\n",
       "      <td>no</td>\n",
       "      <td>1.967973</td>\n",
       "      <td>0.931721</td>\n",
       "      <td>Sometimes</td>\n",
       "      <td>Public_Transportation</td>\n",
       "      <td>Overweight_Level_II</td>\n",
       "    </tr>\n",
       "  </tbody>\n",
       "</table>\n",
       "</div>"
      ],
      "text/plain": [
       "   id  Gender        Age    Height      Weight family_history_with_overweight  \\\n",
       "0   0    Male  24.443011  1.699998   81.669950                            yes   \n",
       "1   1  Female  18.000000  1.560000   57.000000                            yes   \n",
       "2   2  Female  18.000000  1.711460   50.165754                            yes   \n",
       "3   3  Female  20.952737  1.710730  131.274851                            yes   \n",
       "4   4    Male  31.641081  1.914186   93.798055                            yes   \n",
       "\n",
       "  FAVC      FCVC       NCP        CAEC SMOKE      CH2O SCC       FAF  \\\n",
       "0  yes  2.000000  2.983297   Sometimes    no  2.763573  no  0.000000   \n",
       "1  yes  2.000000  3.000000  Frequently    no  2.000000  no  1.000000   \n",
       "2  yes  1.880534  1.411685   Sometimes    no  1.910378  no  0.866045   \n",
       "3  yes  3.000000  3.000000   Sometimes    no  1.674061  no  1.467863   \n",
       "4  yes  2.679664  1.971472   Sometimes    no  1.979848  no  1.967973   \n",
       "\n",
       "        TUE       CALC                 MTRANS           NObeyesdad  \n",
       "0  0.976473  Sometimes  Public_Transportation  Overweight_Level_II  \n",
       "1  1.000000         no             Automobile        Normal_Weight  \n",
       "2  1.673584         no  Public_Transportation  Insufficient_Weight  \n",
       "3  0.780199  Sometimes  Public_Transportation     Obesity_Type_III  \n",
       "4  0.931721  Sometimes  Public_Transportation  Overweight_Level_II  "
      ]
     },
     "execution_count": 3,
     "metadata": {},
     "output_type": "execute_result"
    }
   ],
   "source": [
    "# Taking a look at the data to see columns and some details\n",
    "train_data.head()"
   ]
  },
  {
   "cell_type": "code",
   "execution_count": 4,
   "id": "de147384",
   "metadata": {
    "execution": {
     "iopub.execute_input": "2024-02-21T22:54:13.226146Z",
     "iopub.status.busy": "2024-02-21T22:54:13.225681Z",
     "iopub.status.idle": "2024-02-21T22:54:13.278458Z",
     "shell.execute_reply": "2024-02-21T22:54:13.277208Z"
    },
    "papermill": {
     "duration": 0.065983,
     "end_time": "2024-02-21T22:54:13.281678",
     "exception": false,
     "start_time": "2024-02-21T22:54:13.215695",
     "status": "completed"
    },
    "tags": []
   },
   "outputs": [
    {
     "name": "stdout",
     "output_type": "stream",
     "text": [
      "<class 'pandas.core.frame.DataFrame'>\n",
      "RangeIndex: 20758 entries, 0 to 20757\n",
      "Data columns (total 18 columns):\n",
      " #   Column                          Non-Null Count  Dtype  \n",
      "---  ------                          --------------  -----  \n",
      " 0   id                              20758 non-null  int64  \n",
      " 1   Gender                          20758 non-null  object \n",
      " 2   Age                             20758 non-null  float64\n",
      " 3   Height                          20758 non-null  float64\n",
      " 4   Weight                          20758 non-null  float64\n",
      " 5   family_history_with_overweight  20758 non-null  object \n",
      " 6   FAVC                            20758 non-null  object \n",
      " 7   FCVC                            20758 non-null  float64\n",
      " 8   NCP                             20758 non-null  float64\n",
      " 9   CAEC                            20758 non-null  object \n",
      " 10  SMOKE                           20758 non-null  object \n",
      " 11  CH2O                            20758 non-null  float64\n",
      " 12  SCC                             20758 non-null  object \n",
      " 13  FAF                             20758 non-null  float64\n",
      " 14  TUE                             20758 non-null  float64\n",
      " 15  CALC                            20758 non-null  object \n",
      " 16  MTRANS                          20758 non-null  object \n",
      " 17  NObeyesdad                      20758 non-null  object \n",
      "dtypes: float64(8), int64(1), object(9)\n",
      "memory usage: 2.9+ MB\n"
     ]
    }
   ],
   "source": [
    "# Producing the datatypes before we begin our classification, important to see objects\n",
    "train_data.info()\n"
   ]
  },
  {
   "cell_type": "code",
   "execution_count": 5,
   "id": "92cfc3d8",
   "metadata": {
    "execution": {
     "iopub.execute_input": "2024-02-21T22:54:13.301719Z",
     "iopub.status.busy": "2024-02-21T22:54:13.300837Z",
     "iopub.status.idle": "2024-02-21T22:54:13.307606Z",
     "shell.execute_reply": "2024-02-21T22:54:13.306712Z"
    },
    "papermill": {
     "duration": 0.019463,
     "end_time": "2024-02-21T22:54:13.309953",
     "exception": false,
     "start_time": "2024-02-21T22:54:13.290490",
     "status": "completed"
    },
    "tags": []
   },
   "outputs": [
    {
     "data": {
      "text/plain": [
       "(20758, 18)"
      ]
     },
     "execution_count": 5,
     "metadata": {},
     "output_type": "execute_result"
    }
   ],
   "source": [
    "train_data.shape"
   ]
  },
  {
   "cell_type": "code",
   "execution_count": 6,
   "id": "8fd21f06",
   "metadata": {
    "execution": {
     "iopub.execute_input": "2024-02-21T22:54:13.330318Z",
     "iopub.status.busy": "2024-02-21T22:54:13.328959Z",
     "iopub.status.idle": "2024-02-21T22:54:13.343847Z",
     "shell.execute_reply": "2024-02-21T22:54:13.342644Z"
    },
    "papermill": {
     "duration": 0.028205,
     "end_time": "2024-02-21T22:54:13.346850",
     "exception": false,
     "start_time": "2024-02-21T22:54:13.318645",
     "status": "completed"
    },
    "tags": []
   },
   "outputs": [],
   "source": [
    "# create a data profiling function\n",
    "def create_data_profiling_df(data: pd.DataFrame) -> pd.DataFrame:\n",
    "\n",
    "    # create an empty dataframe to gather information about each column\n",
    "    data_profiling_df = pd.DataFrame(columns = [\"column_name\",\n",
    "                                                \"column_type\",\n",
    "                                                \"unique_values\",\n",
    "                                                \"duplicate_values\",\n",
    "                                                \"null_values\",\n",
    "                                                \"max\",\n",
    "                                                \"min\",\n",
    "                                                \"range\",\n",
    "                                                \"IQR\"])\n",
    "\n",
    "    # loop through each column to add rows to the data_profiling_df dataframe\n",
    "    for column in train_data.columns:\n",
    "        \n",
    "     # create an empty dictionary to store the columns data\n",
    "        column_dict = {}\n",
    "\n",
    "        try:\n",
    "            column_dict[\"column_name\"] = [column]\n",
    "            column_dict[\"column_type\"] = [data[column].dtypes]\n",
    "            column_dict[\"unique_values\"] = [len(data[column].unique())]\n",
    "            column_dict[\"duplicate_values\"] = [(data[column].shape[0] - data[column].isna().sum()) - len(data[column].unique())]\n",
    "            column_dict[\"null_values\"] = [data[column].isna().sum()]\n",
    "            column_dict[\"max\"] = [data[column].max() if (data[column].dtypes != object) else \"NA\"]\n",
    "            column_dict[\"min\"] = [data[column].min() if (data[column].dtypes != object) else \"NA\"]\n",
    "            column_dict[\"range\"] = [data[column].max() - data[column].min() if (data[column].dtypes != object) else \"NA\"]\n",
    "            column_dict[\"IQR\"] = [data[column].quantile(.75) - data[column].quantile(.25) if (data[column].dtypes != object) else \"NA\"]\n",
    "\n",
    "        except:\n",
    "            print(f\"unable to read column: {column}, you may want to drop this column\")\n",
    "\n",
    "        # add the information from the columns dict to the final dataframe\n",
    "        data_profiling_df = pd.concat([data_profiling_df, pd.DataFrame(column_dict)],\n",
    "                                      ignore_index = True) \n",
    "        # sort the final dataframe by unique values descending\n",
    "    data_profiling_df.sort_values(by = ['unique_values'],\n",
    "                                  ascending = [False],\n",
    "                                  inplace=True)\n",
    "\n",
    "    # print the function is complete\n",
    "    print(f\"data profiling complete, dataframe contains {len(data_profiling_df)} columns\")\n",
    "    return data_profiling_df"
   ]
  },
  {
   "cell_type": "code",
   "execution_count": 7,
   "id": "58a98b36",
   "metadata": {
    "execution": {
     "iopub.execute_input": "2024-02-21T22:54:13.366788Z",
     "iopub.status.busy": "2024-02-21T22:54:13.366325Z",
     "iopub.status.idle": "2024-02-21T22:54:13.534988Z",
     "shell.execute_reply": "2024-02-21T22:54:13.533636Z"
    },
    "papermill": {
     "duration": 0.183611,
     "end_time": "2024-02-21T22:54:13.539518",
     "exception": false,
     "start_time": "2024-02-21T22:54:13.355907",
     "status": "completed"
    },
    "tags": []
   },
   "outputs": [
    {
     "name": "stdout",
     "output_type": "stream",
     "text": [
      "data profiling complete, dataframe contains 18 columns\n"
     ]
    },
    {
     "name": "stderr",
     "output_type": "stream",
     "text": [
      "/tmp/ipykernel_18/4232563444.py:36: FutureWarning: The behavior of DataFrame concatenation with empty or all-NA entries is deprecated. In a future version, this will no longer exclude empty or all-NA columns when determining the result dtypes. To retain the old behavior, exclude the relevant entries before the concat operation.\n",
      "  data_profiling_df = pd.concat([data_profiling_df, pd.DataFrame(column_dict)],\n"
     ]
    },
    {
     "data": {
      "text/html": [
       "<div>\n",
       "<style scoped>\n",
       "    .dataframe tbody tr th:only-of-type {\n",
       "        vertical-align: middle;\n",
       "    }\n",
       "\n",
       "    .dataframe tbody tr th {\n",
       "        vertical-align: top;\n",
       "    }\n",
       "\n",
       "    .dataframe thead th {\n",
       "        text-align: right;\n",
       "    }\n",
       "</style>\n",
       "<table border=\"1\" class=\"dataframe\">\n",
       "  <thead>\n",
       "    <tr style=\"text-align: right;\">\n",
       "      <th></th>\n",
       "      <th>column_name</th>\n",
       "      <th>column_type</th>\n",
       "      <th>unique_values</th>\n",
       "      <th>duplicate_values</th>\n",
       "      <th>null_values</th>\n",
       "      <th>max</th>\n",
       "      <th>min</th>\n",
       "      <th>range</th>\n",
       "      <th>IQR</th>\n",
       "    </tr>\n",
       "  </thead>\n",
       "  <tbody>\n",
       "    <tr>\n",
       "      <th>0</th>\n",
       "      <td>id</td>\n",
       "      <td>int64</td>\n",
       "      <td>20758</td>\n",
       "      <td>0</td>\n",
       "      <td>0</td>\n",
       "      <td>20757</td>\n",
       "      <td>0</td>\n",
       "      <td>20757</td>\n",
       "      <td>10378.5</td>\n",
       "    </tr>\n",
       "    <tr>\n",
       "      <th>4</th>\n",
       "      <td>Weight</td>\n",
       "      <td>float64</td>\n",
       "      <td>1979</td>\n",
       "      <td>18779</td>\n",
       "      <td>0</td>\n",
       "      <td>165.057269</td>\n",
       "      <td>39.0</td>\n",
       "      <td>126.057269</td>\n",
       "      <td>45.600553</td>\n",
       "    </tr>\n",
       "    <tr>\n",
       "      <th>3</th>\n",
       "      <td>Height</td>\n",
       "      <td>float64</td>\n",
       "      <td>1833</td>\n",
       "      <td>18925</td>\n",
       "      <td>0</td>\n",
       "      <td>1.975663</td>\n",
       "      <td>1.45</td>\n",
       "      <td>0.525663</td>\n",
       "      <td>0.131031</td>\n",
       "    </tr>\n",
       "    <tr>\n",
       "      <th>2</th>\n",
       "      <td>Age</td>\n",
       "      <td>float64</td>\n",
       "      <td>1703</td>\n",
       "      <td>19055</td>\n",
       "      <td>0</td>\n",
       "      <td>61.0</td>\n",
       "      <td>14.0</td>\n",
       "      <td>47.0</td>\n",
       "      <td>6.0</td>\n",
       "    </tr>\n",
       "    <tr>\n",
       "      <th>11</th>\n",
       "      <td>CH2O</td>\n",
       "      <td>float64</td>\n",
       "      <td>1506</td>\n",
       "      <td>19252</td>\n",
       "      <td>0</td>\n",
       "      <td>3.0</td>\n",
       "      <td>1.0</td>\n",
       "      <td>2.0</td>\n",
       "      <td>0.757595</td>\n",
       "    </tr>\n",
       "    <tr>\n",
       "      <th>13</th>\n",
       "      <td>FAF</td>\n",
       "      <td>float64</td>\n",
       "      <td>1360</td>\n",
       "      <td>19398</td>\n",
       "      <td>0</td>\n",
       "      <td>3.0</td>\n",
       "      <td>0.0</td>\n",
       "      <td>3.0</td>\n",
       "      <td>1.579393</td>\n",
       "    </tr>\n",
       "    <tr>\n",
       "      <th>14</th>\n",
       "      <td>TUE</td>\n",
       "      <td>float64</td>\n",
       "      <td>1297</td>\n",
       "      <td>19461</td>\n",
       "      <td>0</td>\n",
       "      <td>2.0</td>\n",
       "      <td>0.0</td>\n",
       "      <td>2.0</td>\n",
       "      <td>1.0</td>\n",
       "    </tr>\n",
       "    <tr>\n",
       "      <th>7</th>\n",
       "      <td>FCVC</td>\n",
       "      <td>float64</td>\n",
       "      <td>934</td>\n",
       "      <td>19824</td>\n",
       "      <td>0</td>\n",
       "      <td>3.0</td>\n",
       "      <td>1.0</td>\n",
       "      <td>2.0</td>\n",
       "      <td>1.0</td>\n",
       "    </tr>\n",
       "    <tr>\n",
       "      <th>8</th>\n",
       "      <td>NCP</td>\n",
       "      <td>float64</td>\n",
       "      <td>689</td>\n",
       "      <td>20069</td>\n",
       "      <td>0</td>\n",
       "      <td>4.0</td>\n",
       "      <td>1.0</td>\n",
       "      <td>3.0</td>\n",
       "      <td>0.0</td>\n",
       "    </tr>\n",
       "    <tr>\n",
       "      <th>17</th>\n",
       "      <td>NObeyesdad</td>\n",
       "      <td>object</td>\n",
       "      <td>7</td>\n",
       "      <td>20751</td>\n",
       "      <td>0</td>\n",
       "      <td>NA</td>\n",
       "      <td>NA</td>\n",
       "      <td>NA</td>\n",
       "      <td>NA</td>\n",
       "    </tr>\n",
       "    <tr>\n",
       "      <th>16</th>\n",
       "      <td>MTRANS</td>\n",
       "      <td>object</td>\n",
       "      <td>5</td>\n",
       "      <td>20753</td>\n",
       "      <td>0</td>\n",
       "      <td>NA</td>\n",
       "      <td>NA</td>\n",
       "      <td>NA</td>\n",
       "      <td>NA</td>\n",
       "    </tr>\n",
       "    <tr>\n",
       "      <th>9</th>\n",
       "      <td>CAEC</td>\n",
       "      <td>object</td>\n",
       "      <td>4</td>\n",
       "      <td>20754</td>\n",
       "      <td>0</td>\n",
       "      <td>NA</td>\n",
       "      <td>NA</td>\n",
       "      <td>NA</td>\n",
       "      <td>NA</td>\n",
       "    </tr>\n",
       "    <tr>\n",
       "      <th>15</th>\n",
       "      <td>CALC</td>\n",
       "      <td>object</td>\n",
       "      <td>3</td>\n",
       "      <td>20755</td>\n",
       "      <td>0</td>\n",
       "      <td>NA</td>\n",
       "      <td>NA</td>\n",
       "      <td>NA</td>\n",
       "      <td>NA</td>\n",
       "    </tr>\n",
       "    <tr>\n",
       "      <th>10</th>\n",
       "      <td>SMOKE</td>\n",
       "      <td>object</td>\n",
       "      <td>2</td>\n",
       "      <td>20756</td>\n",
       "      <td>0</td>\n",
       "      <td>NA</td>\n",
       "      <td>NA</td>\n",
       "      <td>NA</td>\n",
       "      <td>NA</td>\n",
       "    </tr>\n",
       "    <tr>\n",
       "      <th>1</th>\n",
       "      <td>Gender</td>\n",
       "      <td>object</td>\n",
       "      <td>2</td>\n",
       "      <td>20756</td>\n",
       "      <td>0</td>\n",
       "      <td>NA</td>\n",
       "      <td>NA</td>\n",
       "      <td>NA</td>\n",
       "      <td>NA</td>\n",
       "    </tr>\n",
       "    <tr>\n",
       "      <th>12</th>\n",
       "      <td>SCC</td>\n",
       "      <td>object</td>\n",
       "      <td>2</td>\n",
       "      <td>20756</td>\n",
       "      <td>0</td>\n",
       "      <td>NA</td>\n",
       "      <td>NA</td>\n",
       "      <td>NA</td>\n",
       "      <td>NA</td>\n",
       "    </tr>\n",
       "    <tr>\n",
       "      <th>6</th>\n",
       "      <td>FAVC</td>\n",
       "      <td>object</td>\n",
       "      <td>2</td>\n",
       "      <td>20756</td>\n",
       "      <td>0</td>\n",
       "      <td>NA</td>\n",
       "      <td>NA</td>\n",
       "      <td>NA</td>\n",
       "      <td>NA</td>\n",
       "    </tr>\n",
       "    <tr>\n",
       "      <th>5</th>\n",
       "      <td>family_history_with_overweight</td>\n",
       "      <td>object</td>\n",
       "      <td>2</td>\n",
       "      <td>20756</td>\n",
       "      <td>0</td>\n",
       "      <td>NA</td>\n",
       "      <td>NA</td>\n",
       "      <td>NA</td>\n",
       "      <td>NA</td>\n",
       "    </tr>\n",
       "  </tbody>\n",
       "</table>\n",
       "</div>"
      ],
      "text/plain": [
       "                       column_name column_type unique_values duplicate_values  \\\n",
       "0                               id       int64         20758                0   \n",
       "4                           Weight     float64          1979            18779   \n",
       "3                           Height     float64          1833            18925   \n",
       "2                              Age     float64          1703            19055   \n",
       "11                            CH2O     float64          1506            19252   \n",
       "13                             FAF     float64          1360            19398   \n",
       "14                             TUE     float64          1297            19461   \n",
       "7                             FCVC     float64           934            19824   \n",
       "8                              NCP     float64           689            20069   \n",
       "17                      NObeyesdad      object             7            20751   \n",
       "16                          MTRANS      object             5            20753   \n",
       "9                             CAEC      object             4            20754   \n",
       "15                            CALC      object             3            20755   \n",
       "10                           SMOKE      object             2            20756   \n",
       "1                           Gender      object             2            20756   \n",
       "12                             SCC      object             2            20756   \n",
       "6                             FAVC      object             2            20756   \n",
       "5   family_history_with_overweight      object             2            20756   \n",
       "\n",
       "   null_values         max   min       range        IQR  \n",
       "0            0       20757     0       20757    10378.5  \n",
       "4            0  165.057269  39.0  126.057269  45.600553  \n",
       "3            0    1.975663  1.45    0.525663   0.131031  \n",
       "2            0        61.0  14.0        47.0        6.0  \n",
       "11           0         3.0   1.0         2.0   0.757595  \n",
       "13           0         3.0   0.0         3.0   1.579393  \n",
       "14           0         2.0   0.0         2.0        1.0  \n",
       "7            0         3.0   1.0         2.0        1.0  \n",
       "8            0         4.0   1.0         3.0        0.0  \n",
       "17           0          NA    NA          NA         NA  \n",
       "16           0          NA    NA          NA         NA  \n",
       "9            0          NA    NA          NA         NA  \n",
       "15           0          NA    NA          NA         NA  \n",
       "10           0          NA    NA          NA         NA  \n",
       "1            0          NA    NA          NA         NA  \n",
       "12           0          NA    NA          NA         NA  \n",
       "6            0          NA    NA          NA         NA  \n",
       "5            0          NA    NA          NA         NA  "
      ]
     },
     "execution_count": 7,
     "metadata": {},
     "output_type": "execute_result"
    }
   ],
   "source": [
    "# run the data profiling function and print the dataframe\n",
    "data_profiling_df = create_data_profiling_df(data = train_data)\n",
    "data_profiling_df"
   ]
  },
  {
   "cell_type": "code",
   "execution_count": 8,
   "id": "53ef0a15",
   "metadata": {
    "execution": {
     "iopub.execute_input": "2024-02-21T22:54:13.560756Z",
     "iopub.status.busy": "2024-02-21T22:54:13.560311Z",
     "iopub.status.idle": "2024-02-21T22:54:13.585427Z",
     "shell.execute_reply": "2024-02-21T22:54:13.584197Z"
    },
    "papermill": {
     "duration": 0.0387,
     "end_time": "2024-02-21T22:54:13.587948",
     "exception": false,
     "start_time": "2024-02-21T22:54:13.549248",
     "status": "completed"
    },
    "tags": []
   },
   "outputs": [
    {
     "data": {
      "text/html": [
       "<div>\n",
       "<style scoped>\n",
       "    .dataframe tbody tr th:only-of-type {\n",
       "        vertical-align: middle;\n",
       "    }\n",
       "\n",
       "    .dataframe tbody tr th {\n",
       "        vertical-align: top;\n",
       "    }\n",
       "\n",
       "    .dataframe thead th {\n",
       "        text-align: right;\n",
       "    }\n",
       "</style>\n",
       "<table border=\"1\" class=\"dataframe\">\n",
       "  <thead>\n",
       "    <tr style=\"text-align: right;\">\n",
       "      <th></th>\n",
       "      <th>id</th>\n",
       "      <th>Gender</th>\n",
       "      <th>Age</th>\n",
       "      <th>Height</th>\n",
       "      <th>Weight</th>\n",
       "      <th>family_history_with_overweight</th>\n",
       "      <th>FAVC</th>\n",
       "      <th>FCVC</th>\n",
       "      <th>NCP</th>\n",
       "      <th>CAEC</th>\n",
       "      <th>SMOKE</th>\n",
       "      <th>CH2O</th>\n",
       "      <th>SCC</th>\n",
       "      <th>FAF</th>\n",
       "      <th>TUE</th>\n",
       "      <th>CALC</th>\n",
       "      <th>MTRANS</th>\n",
       "      <th>NObeyesdad</th>\n",
       "    </tr>\n",
       "  </thead>\n",
       "  <tbody>\n",
       "    <tr>\n",
       "      <th>279</th>\n",
       "      <td>279</td>\n",
       "      <td>Male</td>\n",
       "      <td>21.000000</td>\n",
       "      <td>1.700000</td>\n",
       "      <td>75.000000</td>\n",
       "      <td>no</td>\n",
       "      <td>yes</td>\n",
       "      <td>2.000000</td>\n",
       "      <td>3.00000</td>\n",
       "      <td>Sometimes</td>\n",
       "      <td>no</td>\n",
       "      <td>2.000000</td>\n",
       "      <td>no</td>\n",
       "      <td>2.000000</td>\n",
       "      <td>1.000000</td>\n",
       "      <td>Sometimes</td>\n",
       "      <td>Public_Transportation</td>\n",
       "      <td>Overweight_Level_I</td>\n",
       "    </tr>\n",
       "    <tr>\n",
       "      <th>20340</th>\n",
       "      <td>20340</td>\n",
       "      <td>Male</td>\n",
       "      <td>18.000000</td>\n",
       "      <td>1.829142</td>\n",
       "      <td>108.721893</td>\n",
       "      <td>yes</td>\n",
       "      <td>yes</td>\n",
       "      <td>2.000000</td>\n",
       "      <td>1.91863</td>\n",
       "      <td>Sometimes</td>\n",
       "      <td>no</td>\n",
       "      <td>2.000000</td>\n",
       "      <td>no</td>\n",
       "      <td>1.000000</td>\n",
       "      <td>1.506576</td>\n",
       "      <td>Sometimes</td>\n",
       "      <td>Public_Transportation</td>\n",
       "      <td>Obesity_Type_I</td>\n",
       "    </tr>\n",
       "    <tr>\n",
       "      <th>4688</th>\n",
       "      <td>4688</td>\n",
       "      <td>Female</td>\n",
       "      <td>21.028989</td>\n",
       "      <td>1.766626</td>\n",
       "      <td>133.878843</td>\n",
       "      <td>yes</td>\n",
       "      <td>yes</td>\n",
       "      <td>3.000000</td>\n",
       "      <td>3.00000</td>\n",
       "      <td>Sometimes</td>\n",
       "      <td>no</td>\n",
       "      <td>2.868167</td>\n",
       "      <td>no</td>\n",
       "      <td>1.467820</td>\n",
       "      <td>0.923005</td>\n",
       "      <td>Sometimes</td>\n",
       "      <td>Public_Transportation</td>\n",
       "      <td>Obesity_Type_III</td>\n",
       "    </tr>\n",
       "    <tr>\n",
       "      <th>2600</th>\n",
       "      <td>2600</td>\n",
       "      <td>Male</td>\n",
       "      <td>26.684354</td>\n",
       "      <td>1.775416</td>\n",
       "      <td>120.815800</td>\n",
       "      <td>yes</td>\n",
       "      <td>yes</td>\n",
       "      <td>2.974006</td>\n",
       "      <td>3.00000</td>\n",
       "      <td>Sometimes</td>\n",
       "      <td>no</td>\n",
       "      <td>2.623344</td>\n",
       "      <td>no</td>\n",
       "      <td>0.979306</td>\n",
       "      <td>0.076654</td>\n",
       "      <td>Sometimes</td>\n",
       "      <td>Public_Transportation</td>\n",
       "      <td>Obesity_Type_II</td>\n",
       "    </tr>\n",
       "    <tr>\n",
       "      <th>14574</th>\n",
       "      <td>14574</td>\n",
       "      <td>Male</td>\n",
       "      <td>34.970367</td>\n",
       "      <td>1.705617</td>\n",
       "      <td>84.191125</td>\n",
       "      <td>yes</td>\n",
       "      <td>yes</td>\n",
       "      <td>2.487781</td>\n",
       "      <td>3.00000</td>\n",
       "      <td>Sometimes</td>\n",
       "      <td>no</td>\n",
       "      <td>2.000000</td>\n",
       "      <td>no</td>\n",
       "      <td>2.000000</td>\n",
       "      <td>0.000000</td>\n",
       "      <td>Sometimes</td>\n",
       "      <td>Automobile</td>\n",
       "      <td>Overweight_Level_II</td>\n",
       "    </tr>\n",
       "  </tbody>\n",
       "</table>\n",
       "</div>"
      ],
      "text/plain": [
       "          id  Gender        Age    Height      Weight  \\\n",
       "279      279    Male  21.000000  1.700000   75.000000   \n",
       "20340  20340    Male  18.000000  1.829142  108.721893   \n",
       "4688    4688  Female  21.028989  1.766626  133.878843   \n",
       "2600    2600    Male  26.684354  1.775416  120.815800   \n",
       "14574  14574    Male  34.970367  1.705617   84.191125   \n",
       "\n",
       "      family_history_with_overweight FAVC      FCVC      NCP       CAEC SMOKE  \\\n",
       "279                               no  yes  2.000000  3.00000  Sometimes    no   \n",
       "20340                            yes  yes  2.000000  1.91863  Sometimes    no   \n",
       "4688                             yes  yes  3.000000  3.00000  Sometimes    no   \n",
       "2600                             yes  yes  2.974006  3.00000  Sometimes    no   \n",
       "14574                            yes  yes  2.487781  3.00000  Sometimes    no   \n",
       "\n",
       "           CH2O SCC       FAF       TUE       CALC                 MTRANS  \\\n",
       "279    2.000000  no  2.000000  1.000000  Sometimes  Public_Transportation   \n",
       "20340  2.000000  no  1.000000  1.506576  Sometimes  Public_Transportation   \n",
       "4688   2.868167  no  1.467820  0.923005  Sometimes  Public_Transportation   \n",
       "2600   2.623344  no  0.979306  0.076654  Sometimes  Public_Transportation   \n",
       "14574  2.000000  no  2.000000  0.000000  Sometimes             Automobile   \n",
       "\n",
       "                NObeyesdad  \n",
       "279     Overweight_Level_I  \n",
       "20340       Obesity_Type_I  \n",
       "4688      Obesity_Type_III  \n",
       "2600       Obesity_Type_II  \n",
       "14574  Overweight_Level_II  "
      ]
     },
     "execution_count": 8,
     "metadata": {},
     "output_type": "execute_result"
    }
   ],
   "source": [
    "train_data.sample(5)"
   ]
  },
  {
   "cell_type": "code",
   "execution_count": 9,
   "id": "4cd4d005",
   "metadata": {
    "execution": {
     "iopub.execute_input": "2024-02-21T22:54:13.609794Z",
     "iopub.status.busy": "2024-02-21T22:54:13.609306Z",
     "iopub.status.idle": "2024-02-21T22:54:13.625188Z",
     "shell.execute_reply": "2024-02-21T22:54:13.623709Z"
    },
    "papermill": {
     "duration": 0.030252,
     "end_time": "2024-02-21T22:54:13.628042",
     "exception": false,
     "start_time": "2024-02-21T22:54:13.597790",
     "status": "completed"
    },
    "tags": []
   },
   "outputs": [
    {
     "name": "stdout",
     "output_type": "stream",
     "text": [
      "Weight\n",
      "80.000000     866\n",
      "75.000000     630\n",
      "50.000000     618\n",
      "60.000000     506\n",
      "70.000000     486\n",
      "             ... \n",
      "118.447942      1\n",
      "77.916920       1\n",
      "105.107610      1\n",
      "131.572387      1\n",
      "80.615325       1\n",
      "Name: count, Length: 1979, dtype: int64\n",
      "13882     39.000000\n",
      "17416     39.101805\n",
      "7894      39.101805\n",
      "12262     39.101805\n",
      "9664      39.101805\n",
      "            ...    \n",
      "19737    160.935351\n",
      "8177     165.057269\n",
      "16811    165.057269\n",
      "11457    165.057269\n",
      "4040     165.057269\n",
      "Name: Weight, Length: 20758, dtype: float64\n"
     ]
    }
   ],
   "source": [
    "# Looking at weight values \n",
    "print(train_data.loc[:,'Weight'].value_counts())\n",
    "print(train_data.loc[:,'Weight'].sort_values())"
   ]
  },
  {
   "cell_type": "code",
   "execution_count": 10,
   "id": "11fb5f64",
   "metadata": {
    "execution": {
     "iopub.execute_input": "2024-02-21T22:54:13.650349Z",
     "iopub.status.busy": "2024-02-21T22:54:13.649880Z",
     "iopub.status.idle": "2024-02-21T22:54:13.664749Z",
     "shell.execute_reply": "2024-02-21T22:54:13.663204Z"
    },
    "papermill": {
     "duration": 0.029405,
     "end_time": "2024-02-21T22:54:13.667674",
     "exception": false,
     "start_time": "2024-02-21T22:54:13.638269",
     "status": "completed"
    },
    "tags": []
   },
   "outputs": [
    {
     "name": "stdout",
     "output_type": "stream",
     "text": [
      "Height\n",
      "1.700000    1334\n",
      "1.650000     782\n",
      "1.600000     672\n",
      "1.750000     659\n",
      "1.800000     517\n",
      "            ... \n",
      "1.631456       1\n",
      "1.753471       1\n",
      "1.782521       1\n",
      "1.930416       1\n",
      "1.536819       1\n",
      "Name: count, Length: 1833, dtype: int64\n",
      "14129    1.450000\n",
      "10765    1.450000\n",
      "13396    1.456346\n",
      "723      1.456346\n",
      "17961    1.463167\n",
      "           ...   \n",
      "5348     1.947406\n",
      "7272     1.975663\n",
      "1271     1.975663\n",
      "11718    1.975663\n",
      "4084     1.975663\n",
      "Name: Height, Length: 20758, dtype: float64\n"
     ]
    }
   ],
   "source": [
    "# Looking at height values\n",
    "print(train_data.loc[:,'Height'].value_counts())\n",
    "print(train_data.loc[:,'Height'].sort_values())"
   ]
  },
  {
   "cell_type": "markdown",
   "id": "64e647c6",
   "metadata": {
    "papermill": {
     "duration": 0.011021,
     "end_time": "2024-02-21T22:54:13.688775",
     "exception": false,
     "start_time": "2024-02-21T22:54:13.677754",
     "status": "completed"
    },
    "tags": []
   },
   "source": [
    "**The ranges of the height and weight and their occurances suggest that they are in Kilograms and CMs**"
   ]
  },
  {
   "cell_type": "code",
   "execution_count": 11,
   "id": "34b728d5",
   "metadata": {
    "execution": {
     "iopub.execute_input": "2024-02-21T22:54:13.711502Z",
     "iopub.status.busy": "2024-02-21T22:54:13.710631Z",
     "iopub.status.idle": "2024-02-21T22:54:13.741235Z",
     "shell.execute_reply": "2024-02-21T22:54:13.739280Z"
    },
    "papermill": {
     "duration": 0.045446,
     "end_time": "2024-02-21T22:54:13.744479",
     "exception": false,
     "start_time": "2024-02-21T22:54:13.699033",
     "status": "completed"
    },
    "tags": []
   },
   "outputs": [
    {
     "name": "stdout",
     "output_type": "stream",
     "text": [
      "Missing Values:\n",
      "id                                0\n",
      "Gender                            0\n",
      "Age                               0\n",
      "Height                            0\n",
      "Weight                            0\n",
      "family_history_with_overweight    0\n",
      "FAVC                              0\n",
      "FCVC                              0\n",
      "NCP                               0\n",
      "CAEC                              0\n",
      "SMOKE                             0\n",
      "CH2O                              0\n",
      "SCC                               0\n",
      "FAF                               0\n",
      "TUE                               0\n",
      "CALC                              0\n",
      "MTRANS                            0\n",
      "NObeyesdad                        0\n",
      "dtype: int64\n"
     ]
    }
   ],
   "source": [
    "# Search for missing values\n",
    "missing_values = train_data.isnull().sum()\n",
    "\n",
    "# Display the count of missing values for each column\n",
    "print(\"Missing Values:\")\n",
    "print(missing_values)"
   ]
  },
  {
   "cell_type": "code",
   "execution_count": 12,
   "id": "1c6aee62",
   "metadata": {
    "execution": {
     "iopub.execute_input": "2024-02-21T22:54:13.767071Z",
     "iopub.status.busy": "2024-02-21T22:54:13.766628Z",
     "iopub.status.idle": "2024-02-21T22:54:13.774401Z",
     "shell.execute_reply": "2024-02-21T22:54:13.773213Z"
    },
    "papermill": {
     "duration": 0.022666,
     "end_time": "2024-02-21T22:54:13.777510",
     "exception": false,
     "start_time": "2024-02-21T22:54:13.754844",
     "status": "completed"
    },
    "tags": []
   },
   "outputs": [
    {
     "data": {
      "text/plain": [
       "Index(['id', 'Gender', 'Age', 'Height', 'Weight',\n",
       "       'family_history_with_overweight', 'FAVC', 'FCVC', 'NCP', 'CAEC',\n",
       "       'SMOKE', 'CH2O', 'SCC', 'FAF', 'TUE', 'CALC', 'MTRANS', 'NObeyesdad'],\n",
       "      dtype='object')"
      ]
     },
     "execution_count": 12,
     "metadata": {},
     "output_type": "execute_result"
    }
   ],
   "source": [
    "train_data.columns"
   ]
  },
  {
   "cell_type": "code",
   "execution_count": 13,
   "id": "2732ebde",
   "metadata": {
    "execution": {
     "iopub.execute_input": "2024-02-21T22:54:13.800790Z",
     "iopub.status.busy": "2024-02-21T22:54:13.800344Z",
     "iopub.status.idle": "2024-02-21T22:54:15.681894Z",
     "shell.execute_reply": "2024-02-21T22:54:15.680595Z"
    },
    "papermill": {
     "duration": 1.896897,
     "end_time": "2024-02-21T22:54:15.685132",
     "exception": false,
     "start_time": "2024-02-21T22:54:13.788235",
     "status": "completed"
    },
    "tags": []
   },
   "outputs": [],
   "source": [
    "# Importing the libraries that we will use for column transforming, encoding and testing\n",
    "import numpy as np\n",
    "import pandas as pd\n",
    "from sklearn.compose import ColumnTransformer\n",
    "from sklearn.pipeline import Pipeline\n",
    "from sklearn.preprocessing import OrdinalEncoder, OneHotEncoder, StandardScaler\n",
    "from sklearn.impute import SimpleImputer\n",
    "from sklearn.model_selection import train_test_split, GridSearchCV, RandomizedSearchCV\n",
    "from sklearn.tree import DecisionTreeClassifier\n",
    "from sklearn.ensemble import GradientBoostingClassifier\n",
    "from sklearn.metrics import accuracy_score, classification_report\n",
    "\n",
    "\n",
    "# Split the dataset into features (X) and target variable (y)\n",
    "X = train_data.drop('NObeyesdad', axis=1)\n",
    "y = train_data['NObeyesdad']\n",
    "\n",
    "# Define numerical and nominal columns\n",
    "numerical_cols = X.select_dtypes(include=['float64']).columns\n",
    "nominal_cols = X.select_dtypes(include=['object']).columns\n",
    "\n",
    "# Split the data into training and testing sets\n",
    "X_train, X_test, y_train, y_test = train_test_split(X, y, test_size=0.2, random_state=42)"
   ]
  },
  {
   "cell_type": "code",
   "execution_count": 14,
   "id": "ec95f356",
   "metadata": {
    "execution": {
     "iopub.execute_input": "2024-02-21T22:54:15.710155Z",
     "iopub.status.busy": "2024-02-21T22:54:15.709209Z",
     "iopub.status.idle": "2024-02-21T22:54:15.716835Z",
     "shell.execute_reply": "2024-02-21T22:54:15.715580Z"
    },
    "papermill": {
     "duration": 0.023963,
     "end_time": "2024-02-21T22:54:15.719792",
     "exception": false,
     "start_time": "2024-02-21T22:54:15.695829",
     "status": "completed"
    },
    "tags": []
   },
   "outputs": [],
   "source": [
    "# Define the transformers for numerical and nominal columns\n",
    "numeric_transformer = Pipeline(steps=[\n",
    "    ('imputer', SimpleImputer(strategy='median')),\n",
    "    ('scaler', StandardScaler())])\n",
    "# Using standard scaler and the median to impute values for numeric transformer\n",
    "\n",
    "nominal_transformer = Pipeline(steps=[\n",
    "    ('imputer', SimpleImputer(strategy='constant', fill_value='missing')),\n",
    "    ('onehot', OneHotEncoder(handle_unknown='ignore'))])\n",
    "# ignoring values with unknown handles and filling values with missing values as 'missing'\n",
    "\n",
    "# Create a ColumnTransformer\n",
    "preprocessor = ColumnTransformer(\n",
    "    transformers=[\n",
    "        ('numeric_transformer', numeric_transformer, numerical_cols),\n",
    "        ('nominal_transformer', nominal_transformer, nominal_cols)])"
   ]
  },
  {
   "cell_type": "markdown",
   "id": "b79724b3",
   "metadata": {
    "papermill": {
     "duration": 0.010394,
     "end_time": "2024-02-21T22:54:15.741043",
     "exception": false,
     "start_time": "2024-02-21T22:54:15.730649",
     "status": "completed"
    },
    "tags": []
   },
   "source": [
    "**\Why did you implement this Feature Engineering technique? How did it better your model?\**\n",
    "\n",
    "**I used standard scaling and applied to median as the imputation for the numerical columns, this dealt with any potential missing values and gave a representation of the overall distrubtion.**\n",
    "\n",
    "**For the nominal columns I used constant imputation filling them missing values with the 'missing' placeholder.**\n",
    "\n",
    "**I wanted the numerical features to have an equal contribution to the model and so used standard scaling which made the numerical features have a balanced meaning in comparison to eachother**\n",
    "\n",
    "**OneHotEncoding has been used for the categorical columns. This has produced binary values and means they can be used alongside the numerial values**"
   ]
  },
  {
   "cell_type": "code",
   "execution_count": 15,
   "id": "3c7f7208",
   "metadata": {
    "execution": {
     "iopub.execute_input": "2024-02-21T22:54:15.764928Z",
     "iopub.status.busy": "2024-02-21T22:54:15.763745Z",
     "iopub.status.idle": "2024-02-21T22:54:16.083677Z",
     "shell.execute_reply": "2024-02-21T22:54:16.082348Z"
    },
    "papermill": {
     "duration": 0.334742,
     "end_time": "2024-02-21T22:54:16.086459",
     "exception": false,
     "start_time": "2024-02-21T22:54:15.751717",
     "status": "completed"
    },
    "tags": []
   },
   "outputs": [
    {
     "data": {
      "text/html": [
       "<style>#sk-container-id-1 {color: black;background-color: white;}#sk-container-id-1 pre{padding: 0;}#sk-container-id-1 div.sk-toggleable {background-color: white;}#sk-container-id-1 label.sk-toggleable__label {cursor: pointer;display: block;width: 100%;margin-bottom: 0;padding: 0.3em;box-sizing: border-box;text-align: center;}#sk-container-id-1 label.sk-toggleable__label-arrow:before {content: \"▸\";float: left;margin-right: 0.25em;color: #696969;}#sk-container-id-1 label.sk-toggleable__label-arrow:hover:before {color: black;}#sk-container-id-1 div.sk-estimator:hover label.sk-toggleable__label-arrow:before {color: black;}#sk-container-id-1 div.sk-toggleable__content {max-height: 0;max-width: 0;overflow: hidden;text-align: left;background-color: #f0f8ff;}#sk-container-id-1 div.sk-toggleable__content pre {margin: 0.2em;color: black;border-radius: 0.25em;background-color: #f0f8ff;}#sk-container-id-1 input.sk-toggleable__control:checked~div.sk-toggleable__content {max-height: 200px;max-width: 100%;overflow: auto;}#sk-container-id-1 input.sk-toggleable__control:checked~label.sk-toggleable__label-arrow:before {content: \"▾\";}#sk-container-id-1 div.sk-estimator input.sk-toggleable__control:checked~label.sk-toggleable__label {background-color: #d4ebff;}#sk-container-id-1 div.sk-label input.sk-toggleable__control:checked~label.sk-toggleable__label {background-color: #d4ebff;}#sk-container-id-1 input.sk-hidden--visually {border: 0;clip: rect(1px 1px 1px 1px);clip: rect(1px, 1px, 1px, 1px);height: 1px;margin: -1px;overflow: hidden;padding: 0;position: absolute;width: 1px;}#sk-container-id-1 div.sk-estimator {font-family: monospace;background-color: #f0f8ff;border: 1px dotted black;border-radius: 0.25em;box-sizing: border-box;margin-bottom: 0.5em;}#sk-container-id-1 div.sk-estimator:hover {background-color: #d4ebff;}#sk-container-id-1 div.sk-parallel-item::after {content: \"\";width: 100%;border-bottom: 1px solid gray;flex-grow: 1;}#sk-container-id-1 div.sk-label:hover label.sk-toggleable__label {background-color: #d4ebff;}#sk-container-id-1 div.sk-serial::before {content: \"\";position: absolute;border-left: 1px solid gray;box-sizing: border-box;top: 0;bottom: 0;left: 50%;z-index: 0;}#sk-container-id-1 div.sk-serial {display: flex;flex-direction: column;align-items: center;background-color: white;padding-right: 0.2em;padding-left: 0.2em;position: relative;}#sk-container-id-1 div.sk-item {position: relative;z-index: 1;}#sk-container-id-1 div.sk-parallel {display: flex;align-items: stretch;justify-content: center;background-color: white;position: relative;}#sk-container-id-1 div.sk-item::before, #sk-container-id-1 div.sk-parallel-item::before {content: \"\";position: absolute;border-left: 1px solid gray;box-sizing: border-box;top: 0;bottom: 0;left: 50%;z-index: -1;}#sk-container-id-1 div.sk-parallel-item {display: flex;flex-direction: column;z-index: 1;position: relative;background-color: white;}#sk-container-id-1 div.sk-parallel-item:first-child::after {align-self: flex-end;width: 50%;}#sk-container-id-1 div.sk-parallel-item:last-child::after {align-self: flex-start;width: 50%;}#sk-container-id-1 div.sk-parallel-item:only-child::after {width: 0;}#sk-container-id-1 div.sk-dashed-wrapped {border: 1px dashed gray;margin: 0 0.4em 0.5em 0.4em;box-sizing: border-box;padding-bottom: 0.4em;background-color: white;}#sk-container-id-1 div.sk-label label {font-family: monospace;font-weight: bold;display: inline-block;line-height: 1.2em;}#sk-container-id-1 div.sk-label-container {text-align: center;}#sk-container-id-1 div.sk-container {/* jupyter's `normalize.less` sets `[hidden] { display: none; }` but bootstrap.min.css set `[hidden] { display: none !important; }` so we also need the `!important` here to be able to override the default hidden behavior on the sphinx rendered scikit-learn.org. See: https://github.com/scikit-learn/scikit-learn/issues/21755 */display: inline-block !important;position: relative;}#sk-container-id-1 div.sk-text-repr-fallback {display: none;}</style><div id=\"sk-container-id-1\" class=\"sk-top-container\"><div class=\"sk-text-repr-fallback\"><pre>Pipeline(steps=[(&#x27;preprocessor&#x27;,\n",
       "                 ColumnTransformer(transformers=[(&#x27;numeric_transformer&#x27;,\n",
       "                                                  Pipeline(steps=[(&#x27;imputer&#x27;,\n",
       "                                                                   SimpleImputer(strategy=&#x27;median&#x27;)),\n",
       "                                                                  (&#x27;scaler&#x27;,\n",
       "                                                                   StandardScaler())]),\n",
       "                                                  Index([&#x27;Age&#x27;, &#x27;Height&#x27;, &#x27;Weight&#x27;, &#x27;FCVC&#x27;, &#x27;NCP&#x27;, &#x27;CH2O&#x27;, &#x27;FAF&#x27;, &#x27;TUE&#x27;], dtype=&#x27;object&#x27;)),\n",
       "                                                 (&#x27;nominal_transformer&#x27;,\n",
       "                                                  Pipeline(steps=[(&#x27;imputer&#x27;,\n",
       "                                                                   SimpleImputer(fill_value=&#x27;missing&#x27;,\n",
       "                                                                                 strategy=&#x27;constant&#x27;)),\n",
       "                                                                  (&#x27;onehot&#x27;,\n",
       "                                                                   OneHotEncoder(handle_unknown=&#x27;ignore&#x27;))]),\n",
       "                                                  Index([&#x27;Gender&#x27;, &#x27;family_history_with_overweight&#x27;, &#x27;FAVC&#x27;, &#x27;CAEC&#x27;, &#x27;SMOKE&#x27;,\n",
       "       &#x27;SCC&#x27;, &#x27;CALC&#x27;, &#x27;MTRANS&#x27;],\n",
       "      dtype=&#x27;object&#x27;))])),\n",
       "                (&#x27;classifier&#x27;,\n",
       "                 DecisionTreeClassifier(max_depth=5, random_state=42))])</pre><b>In a Jupyter environment, please rerun this cell to show the HTML representation or trust the notebook. <br />On GitHub, the HTML representation is unable to render, please try loading this page with nbviewer.org.</b></div><div class=\"sk-container\" hidden><div class=\"sk-item sk-dashed-wrapped\"><div class=\"sk-label-container\"><div class=\"sk-label sk-toggleable\"><input class=\"sk-toggleable__control sk-hidden--visually\" id=\"sk-estimator-id-1\" type=\"checkbox\" ><label for=\"sk-estimator-id-1\" class=\"sk-toggleable__label sk-toggleable__label-arrow\">Pipeline</label><div class=\"sk-toggleable__content\"><pre>Pipeline(steps=[(&#x27;preprocessor&#x27;,\n",
       "                 ColumnTransformer(transformers=[(&#x27;numeric_transformer&#x27;,\n",
       "                                                  Pipeline(steps=[(&#x27;imputer&#x27;,\n",
       "                                                                   SimpleImputer(strategy=&#x27;median&#x27;)),\n",
       "                                                                  (&#x27;scaler&#x27;,\n",
       "                                                                   StandardScaler())]),\n",
       "                                                  Index([&#x27;Age&#x27;, &#x27;Height&#x27;, &#x27;Weight&#x27;, &#x27;FCVC&#x27;, &#x27;NCP&#x27;, &#x27;CH2O&#x27;, &#x27;FAF&#x27;, &#x27;TUE&#x27;], dtype=&#x27;object&#x27;)),\n",
       "                                                 (&#x27;nominal_transformer&#x27;,\n",
       "                                                  Pipeline(steps=[(&#x27;imputer&#x27;,\n",
       "                                                                   SimpleImputer(fill_value=&#x27;missing&#x27;,\n",
       "                                                                                 strategy=&#x27;constant&#x27;)),\n",
       "                                                                  (&#x27;onehot&#x27;,\n",
       "                                                                   OneHotEncoder(handle_unknown=&#x27;ignore&#x27;))]),\n",
       "                                                  Index([&#x27;Gender&#x27;, &#x27;family_history_with_overweight&#x27;, &#x27;FAVC&#x27;, &#x27;CAEC&#x27;, &#x27;SMOKE&#x27;,\n",
       "       &#x27;SCC&#x27;, &#x27;CALC&#x27;, &#x27;MTRANS&#x27;],\n",
       "      dtype=&#x27;object&#x27;))])),\n",
       "                (&#x27;classifier&#x27;,\n",
       "                 DecisionTreeClassifier(max_depth=5, random_state=42))])</pre></div></div></div><div class=\"sk-serial\"><div class=\"sk-item sk-dashed-wrapped\"><div class=\"sk-label-container\"><div class=\"sk-label sk-toggleable\"><input class=\"sk-toggleable__control sk-hidden--visually\" id=\"sk-estimator-id-2\" type=\"checkbox\" ><label for=\"sk-estimator-id-2\" class=\"sk-toggleable__label sk-toggleable__label-arrow\">preprocessor: ColumnTransformer</label><div class=\"sk-toggleable__content\"><pre>ColumnTransformer(transformers=[(&#x27;numeric_transformer&#x27;,\n",
       "                                 Pipeline(steps=[(&#x27;imputer&#x27;,\n",
       "                                                  SimpleImputer(strategy=&#x27;median&#x27;)),\n",
       "                                                 (&#x27;scaler&#x27;, StandardScaler())]),\n",
       "                                 Index([&#x27;Age&#x27;, &#x27;Height&#x27;, &#x27;Weight&#x27;, &#x27;FCVC&#x27;, &#x27;NCP&#x27;, &#x27;CH2O&#x27;, &#x27;FAF&#x27;, &#x27;TUE&#x27;], dtype=&#x27;object&#x27;)),\n",
       "                                (&#x27;nominal_transformer&#x27;,\n",
       "                                 Pipeline(steps=[(&#x27;imputer&#x27;,\n",
       "                                                  SimpleImputer(fill_value=&#x27;missing&#x27;,\n",
       "                                                                strategy=&#x27;constant&#x27;)),\n",
       "                                                 (&#x27;onehot&#x27;,\n",
       "                                                  OneHotEncoder(handle_unknown=&#x27;ignore&#x27;))]),\n",
       "                                 Index([&#x27;Gender&#x27;, &#x27;family_history_with_overweight&#x27;, &#x27;FAVC&#x27;, &#x27;CAEC&#x27;, &#x27;SMOKE&#x27;,\n",
       "       &#x27;SCC&#x27;, &#x27;CALC&#x27;, &#x27;MTRANS&#x27;],\n",
       "      dtype=&#x27;object&#x27;))])</pre></div></div></div><div class=\"sk-parallel\"><div class=\"sk-parallel-item\"><div class=\"sk-item\"><div class=\"sk-label-container\"><div class=\"sk-label sk-toggleable\"><input class=\"sk-toggleable__control sk-hidden--visually\" id=\"sk-estimator-id-3\" type=\"checkbox\" ><label for=\"sk-estimator-id-3\" class=\"sk-toggleable__label sk-toggleable__label-arrow\">numeric_transformer</label><div class=\"sk-toggleable__content\"><pre>Index([&#x27;Age&#x27;, &#x27;Height&#x27;, &#x27;Weight&#x27;, &#x27;FCVC&#x27;, &#x27;NCP&#x27;, &#x27;CH2O&#x27;, &#x27;FAF&#x27;, &#x27;TUE&#x27;], dtype=&#x27;object&#x27;)</pre></div></div></div><div class=\"sk-serial\"><div class=\"sk-item\"><div class=\"sk-serial\"><div class=\"sk-item\"><div class=\"sk-estimator sk-toggleable\"><input class=\"sk-toggleable__control sk-hidden--visually\" id=\"sk-estimator-id-4\" type=\"checkbox\" ><label for=\"sk-estimator-id-4\" class=\"sk-toggleable__label sk-toggleable__label-arrow\">SimpleImputer</label><div class=\"sk-toggleable__content\"><pre>SimpleImputer(strategy=&#x27;median&#x27;)</pre></div></div></div><div class=\"sk-item\"><div class=\"sk-estimator sk-toggleable\"><input class=\"sk-toggleable__control sk-hidden--visually\" id=\"sk-estimator-id-5\" type=\"checkbox\" ><label for=\"sk-estimator-id-5\" class=\"sk-toggleable__label sk-toggleable__label-arrow\">StandardScaler</label><div class=\"sk-toggleable__content\"><pre>StandardScaler()</pre></div></div></div></div></div></div></div></div><div class=\"sk-parallel-item\"><div class=\"sk-item\"><div class=\"sk-label-container\"><div class=\"sk-label sk-toggleable\"><input class=\"sk-toggleable__control sk-hidden--visually\" id=\"sk-estimator-id-6\" type=\"checkbox\" ><label for=\"sk-estimator-id-6\" class=\"sk-toggleable__label sk-toggleable__label-arrow\">nominal_transformer</label><div class=\"sk-toggleable__content\"><pre>Index([&#x27;Gender&#x27;, &#x27;family_history_with_overweight&#x27;, &#x27;FAVC&#x27;, &#x27;CAEC&#x27;, &#x27;SMOKE&#x27;,\n",
       "       &#x27;SCC&#x27;, &#x27;CALC&#x27;, &#x27;MTRANS&#x27;],\n",
       "      dtype=&#x27;object&#x27;)</pre></div></div></div><div class=\"sk-serial\"><div class=\"sk-item\"><div class=\"sk-serial\"><div class=\"sk-item\"><div class=\"sk-estimator sk-toggleable\"><input class=\"sk-toggleable__control sk-hidden--visually\" id=\"sk-estimator-id-7\" type=\"checkbox\" ><label for=\"sk-estimator-id-7\" class=\"sk-toggleable__label sk-toggleable__label-arrow\">SimpleImputer</label><div class=\"sk-toggleable__content\"><pre>SimpleImputer(fill_value=&#x27;missing&#x27;, strategy=&#x27;constant&#x27;)</pre></div></div></div><div class=\"sk-item\"><div class=\"sk-estimator sk-toggleable\"><input class=\"sk-toggleable__control sk-hidden--visually\" id=\"sk-estimator-id-8\" type=\"checkbox\" ><label for=\"sk-estimator-id-8\" class=\"sk-toggleable__label sk-toggleable__label-arrow\">OneHotEncoder</label><div class=\"sk-toggleable__content\"><pre>OneHotEncoder(handle_unknown=&#x27;ignore&#x27;)</pre></div></div></div></div></div></div></div></div></div></div><div class=\"sk-item\"><div class=\"sk-estimator sk-toggleable\"><input class=\"sk-toggleable__control sk-hidden--visually\" id=\"sk-estimator-id-9\" type=\"checkbox\" ><label for=\"sk-estimator-id-9\" class=\"sk-toggleable__label sk-toggleable__label-arrow\">DecisionTreeClassifier</label><div class=\"sk-toggleable__content\"><pre>DecisionTreeClassifier(max_depth=5, random_state=42)</pre></div></div></div></div></div></div></div>"
      ],
      "text/plain": [
       "Pipeline(steps=[('preprocessor',\n",
       "                 ColumnTransformer(transformers=[('numeric_transformer',\n",
       "                                                  Pipeline(steps=[('imputer',\n",
       "                                                                   SimpleImputer(strategy='median')),\n",
       "                                                                  ('scaler',\n",
       "                                                                   StandardScaler())]),\n",
       "                                                  Index(['Age', 'Height', 'Weight', 'FCVC', 'NCP', 'CH2O', 'FAF', 'TUE'], dtype='object')),\n",
       "                                                 ('nominal_transformer',\n",
       "                                                  Pipeline(steps=[('imputer',\n",
       "                                                                   SimpleImputer(fill_value='missing',\n",
       "                                                                                 strategy='constant')),\n",
       "                                                                  ('onehot',\n",
       "                                                                   OneHotEncoder(handle_unknown='ignore'))]),\n",
       "                                                  Index(['Gender', 'family_history_with_overweight', 'FAVC', 'CAEC', 'SMOKE',\n",
       "       'SCC', 'CALC', 'MTRANS'],\n",
       "      dtype='object'))])),\n",
       "                ('classifier',\n",
       "                 DecisionTreeClassifier(max_depth=5, random_state=42))])"
      ]
     },
     "execution_count": 15,
     "metadata": {},
     "output_type": "execute_result"
    }
   ],
   "source": [
    "# Create a Decision Tree classifier pipeline and fit \n",
    "dt_pipeline = Pipeline(steps=[\n",
    "    ('preprocessor', preprocessor),\n",
    "    ('classifier', DecisionTreeClassifier(max_depth=5, random_state=42))])\n",
    "\n",
    "dt_pipeline.fit(X_train, y_train)"
   ]
  },
  {
   "cell_type": "markdown",
   "id": "7e8be98e",
   "metadata": {
    "papermill": {
     "duration": 0.010911,
     "end_time": "2024-02-21T22:54:16.109052",
     "exception": false,
     "start_time": "2024-02-21T22:54:16.098141",
     "status": "completed"
    },
    "tags": []
   },
   "source": [
    "**As you will see with the Pipeline created for Gradient Boosting, I have created these to streamline the process for the testing data so that the pipeline can be applied and the preprocessing and model will not require any work for the testing data**"
   ]
  },
  {
   "cell_type": "code",
   "execution_count": 16,
   "id": "ea8091d9",
   "metadata": {
    "execution": {
     "iopub.execute_input": "2024-02-21T22:54:16.134184Z",
     "iopub.status.busy": "2024-02-21T22:54:16.133650Z",
     "iopub.status.idle": "2024-02-21T22:54:16.386713Z",
     "shell.execute_reply": "2024-02-21T22:54:16.385214Z"
    },
    "papermill": {
     "duration": 0.269496,
     "end_time": "2024-02-21T22:54:16.389912",
     "exception": false,
     "start_time": "2024-02-21T22:54:16.120416",
     "status": "completed"
    },
    "tags": []
   },
   "outputs": [
    {
     "name": "stdout",
     "output_type": "stream",
     "text": [
      "Decision Tree Accuracy: 0.837\n",
      "Decision Tree Classification Report:\n",
      "                      precision    recall  f1-score   support\n",
      "\n",
      "Insufficient_Weight       0.90      0.92      0.91       524\n",
      "      Normal_Weight       0.84      0.65      0.74       626\n",
      "     Obesity_Type_I       0.82      0.78      0.80       543\n",
      "    Obesity_Type_II       0.98      0.94      0.96       657\n",
      "   Obesity_Type_III       1.00      1.00      1.00       804\n",
      " Overweight_Level_I       0.56      0.81      0.66       484\n",
      "Overweight_Level_II       0.72      0.68      0.70       514\n",
      "\n",
      "           accuracy                           0.84      4152\n",
      "          macro avg       0.83      0.83      0.82      4152\n",
      "       weighted avg       0.85      0.84      0.84      4152\n",
      "\n"
     ]
    }
   ],
   "source": [
    "# Train and predict using Decision Tree\n",
    "\n",
    "dt_y_pred = dt_pipeline.predict(X_test)\n",
    "\n",
    "# Evaluate Decision Tree performance\n",
    "dt_accuracy = accuracy_score(y_test, dt_y_pred)\n",
    "dt_classification_report = classification_report(y_test, dt_y_pred)\n",
    "\n",
    "print(\"Decision Tree Accuracy:\", dt_accuracy.round(3))\n",
    "print(\"Decision Tree Classification Report:\\n\", dt_classification_report)"
   ]
  },
  {
   "cell_type": "markdown",
   "id": "e29d893a",
   "metadata": {
    "papermill": {
     "duration": 0.010995,
     "end_time": "2024-02-21T22:54:16.412620",
     "exception": false,
     "start_time": "2024-02-21T22:54:16.401625",
     "status": "completed"
    },
    "tags": []
   },
   "source": [
    "**\Why did you choose to try this algorithm? How could you improve its accuracy performance?\**\n",
    "\n",
    "**The usage of this algorithm is that it can be interpreted easily and can also capture relationships that are non-linear that could be affecting obesity occurance. I also chose to use a Decision Tree algorithm because I wanted to compare its capability/accuracy to that of the gradient boosting algoritm used below. Its performance could be improved by reducing the amount of features or through feature creation as the encoding process created more features which affects the capability of the Decision Tree and its precision reduces greatly for smaller sample classifications such as 'Overweight_Level_I, the hyperparameters could also be changed, such as the depth=5'**"
   ]
  },
  {
   "cell_type": "code",
   "execution_count": 17,
   "id": "63a72bf1",
   "metadata": {
    "execution": {
     "iopub.execute_input": "2024-02-21T22:54:16.437674Z",
     "iopub.status.busy": "2024-02-21T22:54:16.437188Z",
     "iopub.status.idle": "2024-02-21T22:54:43.002457Z",
     "shell.execute_reply": "2024-02-21T22:54:43.000811Z"
    },
    "papermill": {
     "duration": 26.582063,
     "end_time": "2024-02-21T22:54:43.005959",
     "exception": false,
     "start_time": "2024-02-21T22:54:16.423896",
     "status": "completed"
    },
    "tags": []
   },
   "outputs": [
    {
     "data": {
      "text/html": [
       "<style>#sk-container-id-2 {color: black;background-color: white;}#sk-container-id-2 pre{padding: 0;}#sk-container-id-2 div.sk-toggleable {background-color: white;}#sk-container-id-2 label.sk-toggleable__label {cursor: pointer;display: block;width: 100%;margin-bottom: 0;padding: 0.3em;box-sizing: border-box;text-align: center;}#sk-container-id-2 label.sk-toggleable__label-arrow:before {content: \"▸\";float: left;margin-right: 0.25em;color: #696969;}#sk-container-id-2 label.sk-toggleable__label-arrow:hover:before {color: black;}#sk-container-id-2 div.sk-estimator:hover label.sk-toggleable__label-arrow:before {color: black;}#sk-container-id-2 div.sk-toggleable__content {max-height: 0;max-width: 0;overflow: hidden;text-align: left;background-color: #f0f8ff;}#sk-container-id-2 div.sk-toggleable__content pre {margin: 0.2em;color: black;border-radius: 0.25em;background-color: #f0f8ff;}#sk-container-id-2 input.sk-toggleable__control:checked~div.sk-toggleable__content {max-height: 200px;max-width: 100%;overflow: auto;}#sk-container-id-2 input.sk-toggleable__control:checked~label.sk-toggleable__label-arrow:before {content: \"▾\";}#sk-container-id-2 div.sk-estimator input.sk-toggleable__control:checked~label.sk-toggleable__label {background-color: #d4ebff;}#sk-container-id-2 div.sk-label input.sk-toggleable__control:checked~label.sk-toggleable__label {background-color: #d4ebff;}#sk-container-id-2 input.sk-hidden--visually {border: 0;clip: rect(1px 1px 1px 1px);clip: rect(1px, 1px, 1px, 1px);height: 1px;margin: -1px;overflow: hidden;padding: 0;position: absolute;width: 1px;}#sk-container-id-2 div.sk-estimator {font-family: monospace;background-color: #f0f8ff;border: 1px dotted black;border-radius: 0.25em;box-sizing: border-box;margin-bottom: 0.5em;}#sk-container-id-2 div.sk-estimator:hover {background-color: #d4ebff;}#sk-container-id-2 div.sk-parallel-item::after {content: \"\";width: 100%;border-bottom: 1px solid gray;flex-grow: 1;}#sk-container-id-2 div.sk-label:hover label.sk-toggleable__label {background-color: #d4ebff;}#sk-container-id-2 div.sk-serial::before {content: \"\";position: absolute;border-left: 1px solid gray;box-sizing: border-box;top: 0;bottom: 0;left: 50%;z-index: 0;}#sk-container-id-2 div.sk-serial {display: flex;flex-direction: column;align-items: center;background-color: white;padding-right: 0.2em;padding-left: 0.2em;position: relative;}#sk-container-id-2 div.sk-item {position: relative;z-index: 1;}#sk-container-id-2 div.sk-parallel {display: flex;align-items: stretch;justify-content: center;background-color: white;position: relative;}#sk-container-id-2 div.sk-item::before, #sk-container-id-2 div.sk-parallel-item::before {content: \"\";position: absolute;border-left: 1px solid gray;box-sizing: border-box;top: 0;bottom: 0;left: 50%;z-index: -1;}#sk-container-id-2 div.sk-parallel-item {display: flex;flex-direction: column;z-index: 1;position: relative;background-color: white;}#sk-container-id-2 div.sk-parallel-item:first-child::after {align-self: flex-end;width: 50%;}#sk-container-id-2 div.sk-parallel-item:last-child::after {align-self: flex-start;width: 50%;}#sk-container-id-2 div.sk-parallel-item:only-child::after {width: 0;}#sk-container-id-2 div.sk-dashed-wrapped {border: 1px dashed gray;margin: 0 0.4em 0.5em 0.4em;box-sizing: border-box;padding-bottom: 0.4em;background-color: white;}#sk-container-id-2 div.sk-label label {font-family: monospace;font-weight: bold;display: inline-block;line-height: 1.2em;}#sk-container-id-2 div.sk-label-container {text-align: center;}#sk-container-id-2 div.sk-container {/* jupyter's `normalize.less` sets `[hidden] { display: none; }` but bootstrap.min.css set `[hidden] { display: none !important; }` so we also need the `!important` here to be able to override the default hidden behavior on the sphinx rendered scikit-learn.org. See: https://github.com/scikit-learn/scikit-learn/issues/21755 */display: inline-block !important;position: relative;}#sk-container-id-2 div.sk-text-repr-fallback {display: none;}</style><div id=\"sk-container-id-2\" class=\"sk-top-container\"><div class=\"sk-text-repr-fallback\"><pre>Pipeline(steps=[(&#x27;preprocessor&#x27;,\n",
       "                 ColumnTransformer(transformers=[(&#x27;numeric_transformer&#x27;,\n",
       "                                                  Pipeline(steps=[(&#x27;imputer&#x27;,\n",
       "                                                                   SimpleImputer(strategy=&#x27;median&#x27;)),\n",
       "                                                                  (&#x27;scaler&#x27;,\n",
       "                                                                   StandardScaler())]),\n",
       "                                                  Index([&#x27;Age&#x27;, &#x27;Height&#x27;, &#x27;Weight&#x27;, &#x27;FCVC&#x27;, &#x27;NCP&#x27;, &#x27;CH2O&#x27;, &#x27;FAF&#x27;, &#x27;TUE&#x27;], dtype=&#x27;object&#x27;)),\n",
       "                                                 (&#x27;nominal_transformer&#x27;,\n",
       "                                                  Pipeline(steps=[(&#x27;imputer&#x27;,\n",
       "                                                                   SimpleImputer(fill_value=&#x27;missing&#x27;,\n",
       "                                                                                 strategy=&#x27;constant&#x27;)),\n",
       "                                                                  (&#x27;onehot&#x27;,\n",
       "                                                                   OneHotEncoder(handle_unknown=&#x27;ignore&#x27;))]),\n",
       "                                                  Index([&#x27;Gender&#x27;, &#x27;family_history_with_overweight&#x27;, &#x27;FAVC&#x27;, &#x27;CAEC&#x27;, &#x27;SMOKE&#x27;,\n",
       "       &#x27;SCC&#x27;, &#x27;CALC&#x27;, &#x27;MTRANS&#x27;],\n",
       "      dtype=&#x27;object&#x27;))])),\n",
       "                (&#x27;classifier&#x27;, GradientBoostingClassifier(random_state=42))])</pre><b>In a Jupyter environment, please rerun this cell to show the HTML representation or trust the notebook. <br />On GitHub, the HTML representation is unable to render, please try loading this page with nbviewer.org.</b></div><div class=\"sk-container\" hidden><div class=\"sk-item sk-dashed-wrapped\"><div class=\"sk-label-container\"><div class=\"sk-label sk-toggleable\"><input class=\"sk-toggleable__control sk-hidden--visually\" id=\"sk-estimator-id-10\" type=\"checkbox\" ><label for=\"sk-estimator-id-10\" class=\"sk-toggleable__label sk-toggleable__label-arrow\">Pipeline</label><div class=\"sk-toggleable__content\"><pre>Pipeline(steps=[(&#x27;preprocessor&#x27;,\n",
       "                 ColumnTransformer(transformers=[(&#x27;numeric_transformer&#x27;,\n",
       "                                                  Pipeline(steps=[(&#x27;imputer&#x27;,\n",
       "                                                                   SimpleImputer(strategy=&#x27;median&#x27;)),\n",
       "                                                                  (&#x27;scaler&#x27;,\n",
       "                                                                   StandardScaler())]),\n",
       "                                                  Index([&#x27;Age&#x27;, &#x27;Height&#x27;, &#x27;Weight&#x27;, &#x27;FCVC&#x27;, &#x27;NCP&#x27;, &#x27;CH2O&#x27;, &#x27;FAF&#x27;, &#x27;TUE&#x27;], dtype=&#x27;object&#x27;)),\n",
       "                                                 (&#x27;nominal_transformer&#x27;,\n",
       "                                                  Pipeline(steps=[(&#x27;imputer&#x27;,\n",
       "                                                                   SimpleImputer(fill_value=&#x27;missing&#x27;,\n",
       "                                                                                 strategy=&#x27;constant&#x27;)),\n",
       "                                                                  (&#x27;onehot&#x27;,\n",
       "                                                                   OneHotEncoder(handle_unknown=&#x27;ignore&#x27;))]),\n",
       "                                                  Index([&#x27;Gender&#x27;, &#x27;family_history_with_overweight&#x27;, &#x27;FAVC&#x27;, &#x27;CAEC&#x27;, &#x27;SMOKE&#x27;,\n",
       "       &#x27;SCC&#x27;, &#x27;CALC&#x27;, &#x27;MTRANS&#x27;],\n",
       "      dtype=&#x27;object&#x27;))])),\n",
       "                (&#x27;classifier&#x27;, GradientBoostingClassifier(random_state=42))])</pre></div></div></div><div class=\"sk-serial\"><div class=\"sk-item sk-dashed-wrapped\"><div class=\"sk-label-container\"><div class=\"sk-label sk-toggleable\"><input class=\"sk-toggleable__control sk-hidden--visually\" id=\"sk-estimator-id-11\" type=\"checkbox\" ><label for=\"sk-estimator-id-11\" class=\"sk-toggleable__label sk-toggleable__label-arrow\">preprocessor: ColumnTransformer</label><div class=\"sk-toggleable__content\"><pre>ColumnTransformer(transformers=[(&#x27;numeric_transformer&#x27;,\n",
       "                                 Pipeline(steps=[(&#x27;imputer&#x27;,\n",
       "                                                  SimpleImputer(strategy=&#x27;median&#x27;)),\n",
       "                                                 (&#x27;scaler&#x27;, StandardScaler())]),\n",
       "                                 Index([&#x27;Age&#x27;, &#x27;Height&#x27;, &#x27;Weight&#x27;, &#x27;FCVC&#x27;, &#x27;NCP&#x27;, &#x27;CH2O&#x27;, &#x27;FAF&#x27;, &#x27;TUE&#x27;], dtype=&#x27;object&#x27;)),\n",
       "                                (&#x27;nominal_transformer&#x27;,\n",
       "                                 Pipeline(steps=[(&#x27;imputer&#x27;,\n",
       "                                                  SimpleImputer(fill_value=&#x27;missing&#x27;,\n",
       "                                                                strategy=&#x27;constant&#x27;)),\n",
       "                                                 (&#x27;onehot&#x27;,\n",
       "                                                  OneHotEncoder(handle_unknown=&#x27;ignore&#x27;))]),\n",
       "                                 Index([&#x27;Gender&#x27;, &#x27;family_history_with_overweight&#x27;, &#x27;FAVC&#x27;, &#x27;CAEC&#x27;, &#x27;SMOKE&#x27;,\n",
       "       &#x27;SCC&#x27;, &#x27;CALC&#x27;, &#x27;MTRANS&#x27;],\n",
       "      dtype=&#x27;object&#x27;))])</pre></div></div></div><div class=\"sk-parallel\"><div class=\"sk-parallel-item\"><div class=\"sk-item\"><div class=\"sk-label-container\"><div class=\"sk-label sk-toggleable\"><input class=\"sk-toggleable__control sk-hidden--visually\" id=\"sk-estimator-id-12\" type=\"checkbox\" ><label for=\"sk-estimator-id-12\" class=\"sk-toggleable__label sk-toggleable__label-arrow\">numeric_transformer</label><div class=\"sk-toggleable__content\"><pre>Index([&#x27;Age&#x27;, &#x27;Height&#x27;, &#x27;Weight&#x27;, &#x27;FCVC&#x27;, &#x27;NCP&#x27;, &#x27;CH2O&#x27;, &#x27;FAF&#x27;, &#x27;TUE&#x27;], dtype=&#x27;object&#x27;)</pre></div></div></div><div class=\"sk-serial\"><div class=\"sk-item\"><div class=\"sk-serial\"><div class=\"sk-item\"><div class=\"sk-estimator sk-toggleable\"><input class=\"sk-toggleable__control sk-hidden--visually\" id=\"sk-estimator-id-13\" type=\"checkbox\" ><label for=\"sk-estimator-id-13\" class=\"sk-toggleable__label sk-toggleable__label-arrow\">SimpleImputer</label><div class=\"sk-toggleable__content\"><pre>SimpleImputer(strategy=&#x27;median&#x27;)</pre></div></div></div><div class=\"sk-item\"><div class=\"sk-estimator sk-toggleable\"><input class=\"sk-toggleable__control sk-hidden--visually\" id=\"sk-estimator-id-14\" type=\"checkbox\" ><label for=\"sk-estimator-id-14\" class=\"sk-toggleable__label sk-toggleable__label-arrow\">StandardScaler</label><div class=\"sk-toggleable__content\"><pre>StandardScaler()</pre></div></div></div></div></div></div></div></div><div class=\"sk-parallel-item\"><div class=\"sk-item\"><div class=\"sk-label-container\"><div class=\"sk-label sk-toggleable\"><input class=\"sk-toggleable__control sk-hidden--visually\" id=\"sk-estimator-id-15\" type=\"checkbox\" ><label for=\"sk-estimator-id-15\" class=\"sk-toggleable__label sk-toggleable__label-arrow\">nominal_transformer</label><div class=\"sk-toggleable__content\"><pre>Index([&#x27;Gender&#x27;, &#x27;family_history_with_overweight&#x27;, &#x27;FAVC&#x27;, &#x27;CAEC&#x27;, &#x27;SMOKE&#x27;,\n",
       "       &#x27;SCC&#x27;, &#x27;CALC&#x27;, &#x27;MTRANS&#x27;],\n",
       "      dtype=&#x27;object&#x27;)</pre></div></div></div><div class=\"sk-serial\"><div class=\"sk-item\"><div class=\"sk-serial\"><div class=\"sk-item\"><div class=\"sk-estimator sk-toggleable\"><input class=\"sk-toggleable__control sk-hidden--visually\" id=\"sk-estimator-id-16\" type=\"checkbox\" ><label for=\"sk-estimator-id-16\" class=\"sk-toggleable__label sk-toggleable__label-arrow\">SimpleImputer</label><div class=\"sk-toggleable__content\"><pre>SimpleImputer(fill_value=&#x27;missing&#x27;, strategy=&#x27;constant&#x27;)</pre></div></div></div><div class=\"sk-item\"><div class=\"sk-estimator sk-toggleable\"><input class=\"sk-toggleable__control sk-hidden--visually\" id=\"sk-estimator-id-17\" type=\"checkbox\" ><label for=\"sk-estimator-id-17\" class=\"sk-toggleable__label sk-toggleable__label-arrow\">OneHotEncoder</label><div class=\"sk-toggleable__content\"><pre>OneHotEncoder(handle_unknown=&#x27;ignore&#x27;)</pre></div></div></div></div></div></div></div></div></div></div><div class=\"sk-item\"><div class=\"sk-estimator sk-toggleable\"><input class=\"sk-toggleable__control sk-hidden--visually\" id=\"sk-estimator-id-18\" type=\"checkbox\" ><label for=\"sk-estimator-id-18\" class=\"sk-toggleable__label sk-toggleable__label-arrow\">GradientBoostingClassifier</label><div class=\"sk-toggleable__content\"><pre>GradientBoostingClassifier(random_state=42)</pre></div></div></div></div></div></div></div>"
      ],
      "text/plain": [
       "Pipeline(steps=[('preprocessor',\n",
       "                 ColumnTransformer(transformers=[('numeric_transformer',\n",
       "                                                  Pipeline(steps=[('imputer',\n",
       "                                                                   SimpleImputer(strategy='median')),\n",
       "                                                                  ('scaler',\n",
       "                                                                   StandardScaler())]),\n",
       "                                                  Index(['Age', 'Height', 'Weight', 'FCVC', 'NCP', 'CH2O', 'FAF', 'TUE'], dtype='object')),\n",
       "                                                 ('nominal_transformer',\n",
       "                                                  Pipeline(steps=[('imputer',\n",
       "                                                                   SimpleImputer(fill_value='missing',\n",
       "                                                                                 strategy='constant')),\n",
       "                                                                  ('onehot',\n",
       "                                                                   OneHotEncoder(handle_unknown='ignore'))]),\n",
       "                                                  Index(['Gender', 'family_history_with_overweight', 'FAVC', 'CAEC', 'SMOKE',\n",
       "       'SCC', 'CALC', 'MTRANS'],\n",
       "      dtype='object'))])),\n",
       "                ('classifier', GradientBoostingClassifier(random_state=42))])"
      ]
     },
     "execution_count": 17,
     "metadata": {},
     "output_type": "execute_result"
    }
   ],
   "source": [
    "# Create a Gradient Boosting classifier pipeline and fit\n",
    "gb_pipeline = Pipeline(steps=[\n",
    "    ('preprocessor', preprocessor),\n",
    "    ('classifier', GradientBoostingClassifier(random_state=42))])\n",
    "\n",
    "\n",
    "gb_pipeline.fit(X_train, y_train)"
   ]
  },
  {
   "cell_type": "code",
   "execution_count": 18,
   "id": "27d02038",
   "metadata": {
    "execution": {
     "iopub.execute_input": "2024-02-21T22:54:43.032616Z",
     "iopub.status.busy": "2024-02-21T22:54:43.032111Z",
     "iopub.status.idle": "2024-02-21T22:54:43.345231Z",
     "shell.execute_reply": "2024-02-21T22:54:43.343988Z"
    },
    "papermill": {
     "duration": 0.329597,
     "end_time": "2024-02-21T22:54:43.348204",
     "exception": false,
     "start_time": "2024-02-21T22:54:43.018607",
     "status": "completed"
    },
    "tags": []
   },
   "outputs": [
    {
     "name": "stdout",
     "output_type": "stream",
     "text": [
      "\n",
      "Gradient Boosting Accuracy: 0.904\n",
      "Gradient Boosting Classification Report:\n",
      "                      precision    recall  f1-score   support\n",
      "\n",
      "Insufficient_Weight       0.95      0.94      0.94       524\n",
      "      Normal_Weight       0.87      0.89      0.88       626\n",
      "     Obesity_Type_I       0.88      0.88      0.88       543\n",
      "    Obesity_Type_II       0.98      0.97      0.97       657\n",
      "   Obesity_Type_III       1.00      1.00      1.00       804\n",
      " Overweight_Level_I       0.78      0.78      0.78       484\n",
      "Overweight_Level_II       0.80      0.80      0.80       514\n",
      "\n",
      "           accuracy                           0.90      4152\n",
      "          macro avg       0.89      0.89      0.89      4152\n",
      "       weighted avg       0.90      0.90      0.90      4152\n",
      "\n"
     ]
    }
   ],
   "source": [
    "# Train and predict using Gradient Boosting\n",
    "gb_y_pred = gb_pipeline.predict(X_test)\n",
    "\n",
    "# Evaluate Gradient Boosting performance\n",
    "gb_accuracy = accuracy_score(y_test, gb_y_pred)\n",
    "gb_classification_report = classification_report(y_test, gb_y_pred)\n",
    "\n",
    "print(\"\\nGradient Boosting Accuracy:\", gb_accuracy.round(3))\n",
    "print(\"Gradient Boosting Classification Report:\\n\", gb_classification_report)"
   ]
  },
  {
   "cell_type": "markdown",
   "id": "ec8a70f4",
   "metadata": {
    "papermill": {
     "duration": 0.011641,
     "end_time": "2024-02-21T22:54:43.372018",
     "exception": false,
     "start_time": "2024-02-21T22:54:43.360377",
     "status": "completed"
    },
    "tags": []
   },
   "source": [
    "**\"Why did you choose to try this algorithm? How could you improve its accuracy performance?\"**\n",
    "\n",
    "\n",
    "**I wanted to compare the capability of the Gradient Boosting accuracy to the Decision Tree as they have similiarities but the GB algorithm is more refined and we see that in the accuracy and precision of the algorithm, as hoped, the learning and improvement of weak learners has improved the model. I believe its accuracy could be improved in the same way in which the Decision Tree could, tuning hyperparameters and adding further feature engineering.**"
   ]
  },
  {
   "cell_type": "code",
   "execution_count": 19,
   "id": "723f2f16",
   "metadata": {
    "execution": {
     "iopub.execute_input": "2024-02-21T22:54:43.399755Z",
     "iopub.status.busy": "2024-02-21T22:54:43.399275Z",
     "iopub.status.idle": "2024-02-21T22:54:43.695172Z",
     "shell.execute_reply": "2024-02-21T22:54:43.693709Z"
    },
    "papermill": {
     "duration": 0.314025,
     "end_time": "2024-02-21T22:54:43.698818",
     "exception": false,
     "start_time": "2024-02-21T22:54:43.384793",
     "status": "completed"
    },
    "tags": []
   },
   "outputs": [],
   "source": [
    "# Use the trained pipelines to predict on the test data\n",
    "gb_predictions = gb_pipeline.predict(test_data)\n",
    "\n",
    "# Save test predictions to CSV files\n",
    "\n",
    "submission = pd.DataFrame({\"id\": test_data[\"id\"], \"NObeyesdad\": gb_predictions})\n",
    "submission.to_csv('submission.csv', index=False)"
   ]
  }
 ],
 "metadata": {
  "kaggle": {
   "accelerator": "none",
   "dataSources": [
    {
     "databundleVersionId": 7609535,
     "sourceId": 68479,
     "sourceType": "competition"
    }
   ],
   "dockerImageVersionId": 30646,
   "isGpuEnabled": false,
   "isInternetEnabled": true,
   "language": "python",
   "sourceType": "notebook"
  },
  "kernelspec": {
   "display_name": "Python 3",
   "language": "python",
   "name": "python3"
  },
  "language_info": {
   "codemirror_mode": {
    "name": "ipython",
    "version": 3
   },
   "file_extension": ".py",
   "mimetype": "text/x-python",
   "name": "python",
   "nbconvert_exporter": "python",
   "pygments_lexer": "ipython3",
   "version": "3.10.13"
  },
  "papermill": {
   "default_parameters": {},
   "duration": 35.771131,
   "end_time": "2024-02-21T22:54:44.437917",
   "environment_variables": {},
   "exception": null,
   "input_path": "__notebook__.ipynb",
   "output_path": "__notebook__.ipynb",
   "parameters": {},
   "start_time": "2024-02-21T22:54:08.666786",
   "version": "2.5.0"
  }
 },
 "nbformat": 4,
 "nbformat_minor": 5
}
